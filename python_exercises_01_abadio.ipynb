{
  "nbformat": 4,
  "nbformat_minor": 0,
  "metadata": {
    "colab": {
      "name": "python_exercises_01_parcial.ipynb",
      "provenance": [],
      "include_colab_link": true
    },
    "kernelspec": {
      "name": "python3",
      "display_name": "Python 3"
    }
  },
  "cells": [
    {
      "cell_type": "markdown",
      "metadata": {
        "id": "view-in-github",
        "colab_type": "text"
      },
      "source": [
        "<a href=\"https://colab.research.google.com/github/Costa-Junior/br-python-condensed/blob/main/python_exercises_01_abadio.ipynb\" target=\"_parent\"><img src=\"https://colab.research.google.com/assets/colab-badge.svg\" alt=\"Open In Colab\"/></a>"
      ]
    },
    {
      "cell_type": "markdown",
      "metadata": {
        "id": "8YqaSZgXYJ5g"
      },
      "source": [
        "![](https://i.imgur.com/YX6UATs.png)\n"
      ]
    },
    {
      "cell_type": "markdown",
      "metadata": {
        "id": "hhUVzDipaGb9"
      },
      "source": [
        "### **Exercícios de Python - 1** \n",
        "\n",
        "\n",
        "\n"
      ]
    },
    {
      "cell_type": "markdown",
      "metadata": {
        "id": "qMGp-h8OaGqr"
      },
      "source": [
        "1 - Faça um programa, com uma função que necessite de três argumentos, e que forneça a soma desses três argumentos."
      ]
    },
    {
      "cell_type": "code",
      "metadata": {
        "id": "kTg-D89NdCld"
      },
      "source": [
        "def nota_aluno():\n",
        "  A1 = input(\"Insira o aproveitamento na avaliação 1\")\n",
        "  A2 = input(\"Insira o aproveitamento na avaliação 2\")\n",
        "  A3 = input(\"Insira o aproveitamento na avaliação 3\")\n",
        "  aproveitamento= float(A1)+float(A2)+float(A3)\n",
        "  aproveitamento_arredondado= round(aproveitamento,1)\n",
        "  return f\"Olá aluno, seu aproveitamento foi de {aproveitamento_arredondado}%.\""
      ],
      "execution_count": null,
      "outputs": []
    },
    {
      "cell_type": "code",
      "metadata": {
        "id": "KJ0wmAtLGLyV",
        "outputId": "51b03d34-304b-4cbe-be37-afcc8689146f",
        "colab": {
          "base_uri": "https://localhost:8080/",
          "height": 86
        }
      },
      "source": [
        "nota_aluno()"
      ],
      "execution_count": null,
      "outputs": [
        {
          "output_type": "stream",
          "text": [
            "Insira o aproveitamento na avaliação 120\n",
            "Insira o aproveitamento na avaliação 214\n",
            "Insira o aproveitamento na avaliação 336\n"
          ],
          "name": "stdout"
        },
        {
          "output_type": "execute_result",
          "data": {
            "application/vnd.google.colaboratory.intrinsic+json": {
              "type": "string"
            },
            "text/plain": [
              "'Olá aluno, seu aproveitamento foi de 70.0%.'"
            ]
          },
          "metadata": {
            "tags": []
          },
          "execution_count": 45
        }
      ]
    },
    {
      "cell_type": "markdown",
      "metadata": {
        "id": "KdLXZftIaG60"
      },
      "source": [
        "2 - Faça um Programa que peça a temperatura em graus Celsius, transforme e mostre em graus Fahrenheit. \\\n",
        "*Dica: procure a fórmula para essa conversão na internet*"
      ]
    },
    {
      "cell_type": "code",
      "metadata": {
        "id": "MNINJ32eU45M"
      },
      "source": [
        "def conversor():\n",
        "  celsius = input(\"Insira a temperatura em ºC.\")\n",
        "  conversor = 1.8*float(celsius)+32\n",
        "  return f\"{celsius}ºC corresponde a {conversor}ºF.\""
      ],
      "execution_count": null,
      "outputs": []
    },
    {
      "cell_type": "code",
      "metadata": {
        "id": "bOrDJ_NEGee_",
        "outputId": "a7f05c54-b4eb-4b81-e697-8d2030c9c518",
        "colab": {
          "base_uri": "https://localhost:8080/",
          "height": 52
        }
      },
      "source": [
        "conversor()"
      ],
      "execution_count": null,
      "outputs": [
        {
          "output_type": "stream",
          "text": [
            "Insira a temperatura em ºC.54\n"
          ],
          "name": "stdout"
        },
        {
          "output_type": "execute_result",
          "data": {
            "application/vnd.google.colaboratory.intrinsic+json": {
              "type": "string"
            },
            "text/plain": [
              "'54ºC corresponde a 129.2ºF.'"
            ]
          },
          "metadata": {
            "tags": []
          },
          "execution_count": 47
        }
      ]
    },
    {
      "cell_type": "markdown",
      "metadata": {
        "id": "4OETBVgmaGzX"
      },
      "source": [
        "3 - Faça um Programa que peça um número inteiro e determine se ele é par ou impar. Dica: utilize o operador módulo (resto da divisão)."
      ]
    },
    {
      "cell_type": "code",
      "metadata": {
        "id": "WbzCimFZVSr1"
      },
      "source": [
        "def par_impar():\n",
        "    num = input(\"Digite um número:\")\n",
        "    if (num % 2 == 0):\n",
        "       print(\"Número par.\")\n",
        "    else:\n",
        "       print(\"Número ímpar.\")"
      ],
      "execution_count": 74,
      "outputs": []
    },
    {
      "cell_type": "code",
      "metadata": {
        "id": "znd6EDQ2gWiJ"
      },
      "source": [
        "par_impar()"
      ],
      "execution_count": null,
      "outputs": []
    },
    {
      "cell_type": "markdown",
      "metadata": {
        "id": "7zPJ8sgPaGw0"
      },
      "source": [
        "4 - Faça um programa que peça o tamanho de um arquivo para download (em MB) e a velocidade de um link de Internet (em Mbps), calcule e informe o tempo aproximado de download do arquivo usando este link (em minutos)."
      ]
    },
    {
      "cell_type": "code",
      "metadata": {
        "id": "l4qtSxU7XquB"
      },
      "source": [
        "  def download():\n",
        "    A1 = input(\"Qual o tamanho do seu arquivo em MB?\")\n",
        "    A2 = input(\"Qual a sua velocidade de internet em Mbps?\")\n",
        "    tempo = float(A1)*0.01666/float(A2)\n",
        "    tempo_final= round(tempo,3)\n",
        "    return f\"Você levara aproximadamente {tempo_final} minutos para fazer o donwload deste arquivo.\""
      ],
      "execution_count": 72,
      "outputs": []
    },
    {
      "cell_type": "code",
      "metadata": {
        "id": "ydMcOE-Emr3R"
      },
      "source": [
        "download()"
      ],
      "execution_count": null,
      "outputs": []
    },
    {
      "cell_type": "markdown",
      "metadata": {
        "id": "0tkhm6EUaG1u"
      },
      "source": [
        "5 - Faça um programa para a leitura de duas notas parciais de um aluno. O programa deve calcular a média alcançada por aluno e apresentar:\n",
        "- A mensagem \"Aprovado\", se a média alcançada for maior ou igual a sete;\n",
        "- A mensagem \"Reprovado\", se a média for menor do que sete;\n",
        "- A mensagem \"Aprovado com Distinção\", se a média for igual a dez."
      ]
    },
    {
      "cell_type": "code",
      "metadata": {
        "id": "990mQ6UhdwKl"
      },
      "source": [
        "def nota_aluno():\n",
        "  A1 = input(\"Insira o aproveitamento na avaliação 1\")\n",
        "  A2 = input(\"Insira o aproveitamento na avaliação 2\")\n",
        "  media= float(A1)+float(A2)/2\n",
        "  if (media > 7.0):\n",
        "     return f\"Você foi aprovado.\"\n",
        "  elif (media == 10.0):\n",
        "    return f\"Você foi aprovado com distinção.\"\n",
        "  else:\n",
        "     return f\"Você foi reprovado.\""
      ],
      "execution_count": 64,
      "outputs": []
    },
    {
      "cell_type": "code",
      "metadata": {
        "id": "xGXDAj00i4WG"
      },
      "source": [
        "nota_aluno()"
      ],
      "execution_count": null,
      "outputs": []
    },
    {
      "cell_type": "markdown",
      "metadata": {
        "id": "Lm1tOKThnU42"
      },
      "source": [
        "Exercícios adaptados de Python Brasil"
      ]
    }
  ]
}